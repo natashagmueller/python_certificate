{
  "nbformat": 4,
  "nbformat_minor": 0,
  "metadata": {
    "colab": {
      "provenance": [],
      "authorship_tag": "ABX9TyPbh/IvD9CUOuHFyLvHAOMR",
      "include_colab_link": true
    },
    "kernelspec": {
      "name": "python3",
      "display_name": "Python 3"
    },
    "language_info": {
      "name": "python"
    }
  },
  "cells": [
    {
      "cell_type": "markdown",
      "metadata": {
        "id": "view-in-github",
        "colab_type": "text"
      },
      "source": [
        "<a href=\"https://colab.research.google.com/github/natashagmueller/python_certificate/blob/main/Tuples.ipynb\" target=\"_parent\"><img src=\"https://colab.research.google.com/assets/colab-badge.svg\" alt=\"Open In Colab\"/></a>"
      ]
    },
    {
      "cell_type": "code",
      "execution_count": null,
      "metadata": {
        "colab": {
          "base_uri": "https://localhost:8080/"
        },
        "id": "tbw_0tWWQFXS",
        "outputId": "816ed4ef-cb61-4efa-e878-72efddd0d7e3"
      },
      "outputs": [
        {
          "output_type": "stream",
          "name": "stdout",
          "text": [
            "(1, 'Natasha', 'Sydney', 884857575)\n"
          ]
        }
      ],
      "source": [
        "employee = (1, 'Natasha', 'Sydney', 884857575)\n",
        "print(employee)"
      ]
    },
    {
      "cell_type": "code",
      "source": [
        "print(employee[1])"
      ],
      "metadata": {
        "colab": {
          "base_uri": "https://localhost:8080/"
        },
        "id": "hQx-dYARQjGc",
        "outputId": "97e30d00-9ee7-4c6f-82e1-d2b6b8da0198"
      },
      "execution_count": null,
      "outputs": [
        {
          "output_type": "stream",
          "name": "stdout",
          "text": [
            "Natasha\n"
          ]
        }
      ]
    },
    {
      "cell_type": "code",
      "source": [
        "print(employee[-1])"
      ],
      "metadata": {
        "colab": {
          "base_uri": "https://localhost:8080/"
        },
        "id": "juJFprx4Qu05",
        "outputId": "6ef47dc2-01c4-49ee-9af4-71263b935973"
      },
      "execution_count": null,
      "outputs": [
        {
          "output_type": "stream",
          "name": "stdout",
          "text": [
            "884857575\n"
          ]
        }
      ]
    },
    {
      "cell_type": "code",
      "source": [
        "employee = (1, 'Natasha', 'Sydney', 884857575)\n",
        "new_emp = list(employee)\n",
        "new_emp[1] = 'Natasha Mueller'\n",
        "employee = tuple(new_emp)\n",
        "print(employee)"
      ],
      "metadata": {
        "colab": {
          "base_uri": "https://localhost:8080/"
        },
        "id": "v4LcJNy1Q_Rb",
        "outputId": "174fb62d-70c8-4295-bb20-43ca53ce8faf"
      },
      "execution_count": null,
      "outputs": [
        {
          "output_type": "stream",
          "name": "stdout",
          "text": [
            "(1, 'Natasha Mueller', 'Sydney', 884857575)\n"
          ]
        }
      ]
    },
    {
      "cell_type": "code",
      "source": [
        "for x in employee:\n",
        "  print(x)"
      ],
      "metadata": {
        "colab": {
          "base_uri": "https://localhost:8080/"
        },
        "id": "r8y05iH9Rt-K",
        "outputId": "fa97d99c-6d1a-45b2-b764-59f46629257f"
      },
      "execution_count": null,
      "outputs": [
        {
          "output_type": "stream",
          "name": "stdout",
          "text": [
            "1\n",
            "Natasha Mueller\n",
            "Sydney\n",
            "884857575\n"
          ]
        }
      ]
    },
    {
      "cell_type": "code",
      "source": [
        "print(employee.index('Sydney'))"
      ],
      "metadata": {
        "colab": {
          "base_uri": "https://localhost:8080/"
        },
        "id": "mO6Yt56hRyr4",
        "outputId": "53d12436-38b7-4f75-87a9-ca55d077a7ce"
      },
      "execution_count": null,
      "outputs": [
        {
          "output_type": "stream",
          "name": "stdout",
          "text": [
            "2\n"
          ]
        }
      ]
    }
  ]
}